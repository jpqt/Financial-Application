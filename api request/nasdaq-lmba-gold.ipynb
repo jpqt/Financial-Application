{
 "cells": [
  {
   "cell_type": "markdown",
   "id": "b687b291-454e-4d48-be53-708f11d9cdca",
   "metadata": {},
   "source": [
    "# GoldSpy Investments\n",
    "GoldSpy Investments, An up and coming investment fund management took on a small client recently, who wanted to invest a small amount of capital with them. As a beginner to the financial markets he wanted to see if Gold or the S&P500 would be more of a sound investment for the future.\n",
    "\n",
    "GoldSpy Investments will not present to the client, historical data on both markets, and show which investment is more volatile and lastly what the future may hold for each investment, which the client would then choose to invest in long term.\n",
    "\n",
    "\n"
   ]
  },
  {
   "cell_type": "code",
   "execution_count": 5,
   "id": "824be099-f911-4d5d-8fe8-904b6738fd67",
   "metadata": {
    "tags": []
   },
   "outputs": [],
   "source": [
    "#import required libraries and dependencies \n",
    "\n",
    "import pandas as pd\n",
    "from pathlib import Path\n",
    "import os #provides functions for interacting with the operating system\n",
    "from dotenv import load_dotenv\n",
    "import requests\n",
    "import json\n",
    "import seaborn as sns\n",
    "import numpy as np\n",
    "import alpaca_trade_api as tradeapi\n",
    "import datetime as dt\n",
    "import pytz\n",
    "import hvplot.pandas\n",
    "%matplotlib inline\n",
    "from matplotlib import pyplot as plt\n",
    "sns.set_theme(style=\"ticks\", color_codes=True)\n",
    "\n"
   ]
  },
  {
   "cell_type": "code",
   "execution_count": 6,
   "id": "32b09c8e-18e3-4579-996d-e55ddee01a31",
   "metadata": {},
   "outputs": [
    {
     "name": "stderr",
     "output_type": "stream",
     "text": [
      "Python-dotenv could not parse statement starting at line 1\n"
     ]
    },
    {
     "data": {
      "text/plain": [
       "True"
      ]
     },
     "execution_count": 6,
     "metadata": {},
     "output_type": "execute_result"
    }
   ],
   "source": [
    "# Load .env enviroment variables into the notebook\n",
    "load_dotenv()"
   ]
  },
  {
   "cell_type": "markdown",
   "id": "95c2469c-9201-40c2-99da-63c7fdc7f09c",
   "metadata": {},
   "source": [
    "### Collect and enter LMBA Gold Stock Data\n",
    "\n",
    "Retrieve and API Key from Nasdaq and store it as a python variable, create a request and response library by using the Nasdaq endpoints.\n"
   ]
  },
  {
   "cell_type": "code",
   "execution_count": 10,
   "id": "cad33b08-1c63-4139-982f-b2acaecc39fb",
   "metadata": {},
   "outputs": [],
   "source": [
    "#retrieve api key from env variable and store as python variable\n",
    "nasdaq_api_key = os.getenv(\"nasdaq_api_key\")\n",
    "\n",
    "#define base request url for nasdaq\n",
    "lmba_gold_url =\"https://data.nasdaq.com/api/v3/datasets/LBMA/GOLD?start_date=2022-08-01&end_date=2022-08-24&api_key=Mwi4EGHuLPX4L1CEfouP\"\n"
   ]
  },
  {
   "cell_type": "code",
   "execution_count": 11,
   "id": "d33b051b-8f99-4360-ada9-cfeccabbaa3b",
   "metadata": {
    "tags": []
   },
   "outputs": [
    {
     "data": {
      "text/plain": [
       "{'dataset': {'id': 11304240,\n",
       "  'dataset_code': 'GOLD',\n",
       "  'database_code': 'LBMA',\n",
       "  'name': 'Gold Price: London Fixing',\n",
       "  'description': \"Gold Price: London Fixings, London Bullion Market Association (LBMA). Fixing levels are set per troy ounce. The London Gold Fixing Companies set the prices for gold that are globally considered as the international standard for pricing of gold. The Gold price in London is set twice a day by five LBMA Market Makers who comprise the London Gold Market Fixing Limited (LGMFL). The process starts with the announcement from the Chairman of the LGMFL to the other members of the LBMA Market Makers, then relayed to the dealing rooms where customers can express their interest as buyers or sellers and also the quantity they wish to trade. The gold fixing price is then set by collating bids and offers until the supply and demand are matched. At this point the price is announced as the 'Fixed' price for gold and all business is conducted on the basis of that price.\",\n",
       "  'refreshed_at': '2022-08-24T23:30:18.397Z',\n",
       "  'newest_available_date': '2022-08-24',\n",
       "  'oldest_available_date': '1968-01-02',\n",
       "  'column_names': ['Date',\n",
       "   'USD (AM)',\n",
       "   'USD (PM)',\n",
       "   'GBP (AM)',\n",
       "   'GBP (PM)',\n",
       "   'EURO (AM)',\n",
       "   'EURO (PM)'],\n",
       "  'frequency': 'daily',\n",
       "  'type': 'Time Series',\n",
       "  'premium': False,\n",
       "  'limit': None,\n",
       "  'transform': None,\n",
       "  'column_index': None,\n",
       "  'start_date': '2022-08-01',\n",
       "  'end_date': '2022-08-24',\n",
       "  'data': [['2022-08-24', 1752.0, 1745.65, 1483.59, 1483.1, 1760.41, 1759.79],\n",
       "   ['2022-08-23', 1739.45, 1746.55, 1479.05, 1473.04, 1752.84, 1744.8],\n",
       "   ['2022-08-22', 1732.8, 1733.25, 1467.34, 1471.01, 1731.24, 1737.93],\n",
       "   ['2022-08-19', 1752.9, 1750.75, 1476.12, 1480.96, 1738.53, 1742.0],\n",
       "   ['2022-08-18', 1765.6, 1765.55, 1466.15, 1470.53, 1737.53, 1744.36],\n",
       "   ['2022-08-17', 1773.65, 1767.2, 1465.92, 1463.77, 1742.97, 1737.16],\n",
       "   ['2022-08-16', 1776.15, 1774.85, 1476.16, 1469.22, 1752.7, 1745.92],\n",
       "   ['2022-08-15', 1781.45, 1776.6, 1478.07, 1469.78, 1748.67, 1742.13],\n",
       "   ['2022-08-12', 1788.45, 1792.1, 1472.61, 1480.63, 1735.87, 1746.76],\n",
       "   ['2022-08-11', 1789.7, 1796.7, 1464.15, 1467.54, 1732.07, 1734.35],\n",
       "   ['2022-08-10', 1793.5, 1795.05, 1482.15, 1468.17, 1753.33, 1739.22],\n",
       "   ['2022-08-09', 1790.6, 1795.25, 1477.42, 1482.34, 1748.88, 1753.6],\n",
       "   ['2022-08-08', 1775.7, 1784.05, 1469.92, 1471.48, 1744.09, 1748.9],\n",
       "   ['2022-08-05', 1786.75, 1773.25, 1472.82, 1473.04, 1747.26, 1744.35],\n",
       "   ['2022-08-04', 1777.9, 1783.2, 1460.9, 1473.28, 1744.48, 1749.85],\n",
       "   ['2022-08-03', 1766.6, 1761.25, 1450.03, 1451.62, 1734.09, 1735.54],\n",
       "   ['2022-08-02', 1772.9, 1779.75, 1452.36, 1457.26, 1732.3, 1743.62],\n",
       "   ['2022-08-01', 1766.75, 1772.4, 1443.26, 1444.86, 1722.23, 1727.91]],\n",
       "  'collapse': None,\n",
       "  'order': None,\n",
       "  'database_id': 139}}"
      ]
     },
     "execution_count": 11,
     "metadata": {},
     "output_type": "execute_result"
    }
   ],
   "source": [
    "#set the GOLD endpoint\n",
    "#display response data (super long list)\n",
    "\n",
    "requests.get(lmba_gold_url).json()\n"
   ]
  },
  {
   "cell_type": "markdown",
   "id": "99007949-a853-4362-81c1-5cb07847a828",
   "metadata": {},
   "source": [
    "### Use pandas\n",
    "create `read_csv` function and `Path` module to import data from `LMBAGOLD.csv` file and create a dataframe and post 10 most recent prices. del Columns "
   ]
  },
  {
   "cell_type": "code",
   "execution_count": 12,
   "id": "ec422c9e-0b37-4f0d-be95-9a5366bbc2c7",
   "metadata": {
    "tags": []
   },
   "outputs": [
    {
     "data": {
      "text/html": [
       "<div>\n",
       "<style scoped>\n",
       "    .dataframe tbody tr th:only-of-type {\n",
       "        vertical-align: middle;\n",
       "    }\n",
       "\n",
       "    .dataframe tbody tr th {\n",
       "        vertical-align: top;\n",
       "    }\n",
       "\n",
       "    .dataframe thead th {\n",
       "        text-align: right;\n",
       "    }\n",
       "</style>\n",
       "<table border=\"1\" class=\"dataframe\">\n",
       "  <thead>\n",
       "    <tr style=\"text-align: right;\">\n",
       "      <th></th>\n",
       "      <th>Date</th>\n",
       "      <th>Close</th>\n",
       "    </tr>\n",
       "  </thead>\n",
       "  <tbody>\n",
       "    <tr>\n",
       "      <th>13799</th>\n",
       "      <td>1968-01-15</td>\n",
       "      <td>NaN</td>\n",
       "    </tr>\n",
       "    <tr>\n",
       "      <th>13800</th>\n",
       "      <td>1968-01-12</td>\n",
       "      <td>NaN</td>\n",
       "    </tr>\n",
       "    <tr>\n",
       "      <th>13801</th>\n",
       "      <td>1968-01-11</td>\n",
       "      <td>NaN</td>\n",
       "    </tr>\n",
       "    <tr>\n",
       "      <th>13802</th>\n",
       "      <td>1968-01-10</td>\n",
       "      <td>NaN</td>\n",
       "    </tr>\n",
       "    <tr>\n",
       "      <th>13803</th>\n",
       "      <td>1968-01-09</td>\n",
       "      <td>NaN</td>\n",
       "    </tr>\n",
       "    <tr>\n",
       "      <th>13804</th>\n",
       "      <td>1968-01-08</td>\n",
       "      <td>NaN</td>\n",
       "    </tr>\n",
       "    <tr>\n",
       "      <th>13805</th>\n",
       "      <td>1968-01-05</td>\n",
       "      <td>NaN</td>\n",
       "    </tr>\n",
       "    <tr>\n",
       "      <th>13806</th>\n",
       "      <td>1968-01-04</td>\n",
       "      <td>NaN</td>\n",
       "    </tr>\n",
       "    <tr>\n",
       "      <th>13807</th>\n",
       "      <td>1968-01-03</td>\n",
       "      <td>NaN</td>\n",
       "    </tr>\n",
       "    <tr>\n",
       "      <th>13808</th>\n",
       "      <td>1968-01-02</td>\n",
       "      <td>NaN</td>\n",
       "    </tr>\n",
       "  </tbody>\n",
       "</table>\n",
       "</div>"
      ],
      "text/plain": [
       "             Date  Close\n",
       "13799  1968-01-15    NaN\n",
       "13800  1968-01-12    NaN\n",
       "13801  1968-01-11    NaN\n",
       "13802  1968-01-10    NaN\n",
       "13803  1968-01-09    NaN\n",
       "13804  1968-01-08    NaN\n",
       "13805  1968-01-05    NaN\n",
       "13806  1968-01-04    NaN\n",
       "13807  1968-01-03    NaN\n",
       "13808  1968-01-02    NaN"
      ]
     },
     "execution_count": 12,
     "metadata": {},
     "output_type": "execute_result"
    }
   ],
   "source": [
    "## Using the read_csv function and Path module, create a DataFrame \n",
    "# import information from \"LBMAGOLD.csv\"\n",
    "lmba_gold_csv = Path(\"../Resources/LBMAGOLD.csv\")\n",
    "\n",
    "lmba_gold_df = pd.read_csv(\n",
    "    lmba_gold_csv,\n",
    "    # index_col='Date',\n",
    "    # infer_datetime_format=True,\n",
    "    # parse_dates=True,\n",
    ")\n",
    "\n",
    "columns = ['Date',\n",
    "   'Open',\n",
    "   'Close',\n",
    "   'GBP (Open)',\n",
    "   'GBP (Close)',\n",
    "   'EURO (Open)',\n",
    "   'EURO (Close)']\n",
    "lmba_gold_df.columns = columns\n",
    "\n",
    "del lmba_gold_df['Open']\n",
    "del lmba_gold_df['GBP (Open)']\n",
    "del lmba_gold_df['GBP (Close)']\n",
    "del lmba_gold_df['EURO (Open)']\n",
    "del lmba_gold_df['EURO (Close)']\n",
    "\n",
    "lmba_gold_df\n",
    "#review the first 10 and last 10 rows.\n",
    "lmba_gold_df.head(10)\n",
    "lmba_gold_df.tail(10)\n",
    "\n"
   ]
  },
  {
   "cell_type": "code",
   "execution_count": 13,
   "id": "a14441c8-9f5d-41e8-b4b4-d31ba43695f3",
   "metadata": {},
   "outputs": [
    {
     "name": "stdout",
     "output_type": "stream",
     "text": [
      "(1698, 1)\n"
     ]
    },
    {
     "data": {
      "text/html": [
       "<div>\n",
       "<style scoped>\n",
       "    .dataframe tbody tr th:only-of-type {\n",
       "        vertical-align: middle;\n",
       "    }\n",
       "\n",
       "    .dataframe tbody tr th {\n",
       "        vertical-align: top;\n",
       "    }\n",
       "\n",
       "    .dataframe thead th {\n",
       "        text-align: right;\n",
       "    }\n",
       "</style>\n",
       "<table border=\"1\" class=\"dataframe\">\n",
       "  <thead>\n",
       "    <tr style=\"text-align: right;\">\n",
       "      <th></th>\n",
       "      <th>Close</th>\n",
       "    </tr>\n",
       "    <tr>\n",
       "      <th>Date</th>\n",
       "      <th></th>\n",
       "    </tr>\n",
       "  </thead>\n",
       "  <tbody>\n",
       "    <tr>\n",
       "      <th>2015-12-01</th>\n",
       "      <td>1065.40</td>\n",
       "    </tr>\n",
       "    <tr>\n",
       "      <th>2015-12-02</th>\n",
       "      <td>1055.40</td>\n",
       "    </tr>\n",
       "    <tr>\n",
       "      <th>2015-12-03</th>\n",
       "      <td>1055.45</td>\n",
       "    </tr>\n",
       "    <tr>\n",
       "      <th>2015-12-04</th>\n",
       "      <td>1079.25</td>\n",
       "    </tr>\n",
       "    <tr>\n",
       "      <th>2015-12-07</th>\n",
       "      <td>1075.80</td>\n",
       "    </tr>\n",
       "    <tr>\n",
       "      <th>2015-12-08</th>\n",
       "      <td>1072.10</td>\n",
       "    </tr>\n",
       "    <tr>\n",
       "      <th>2015-12-09</th>\n",
       "      <td>1081.00</td>\n",
       "    </tr>\n",
       "    <tr>\n",
       "      <th>2015-12-10</th>\n",
       "      <td>1071.00</td>\n",
       "    </tr>\n",
       "    <tr>\n",
       "      <th>2015-12-11</th>\n",
       "      <td>1072.50</td>\n",
       "    </tr>\n",
       "    <tr>\n",
       "      <th>2015-12-14</th>\n",
       "      <td>1068.25</td>\n",
       "    </tr>\n",
       "  </tbody>\n",
       "</table>\n",
       "</div>"
      ],
      "text/plain": [
       "              Close\n",
       "Date               \n",
       "2015-12-01  1065.40\n",
       "2015-12-02  1055.40\n",
       "2015-12-03  1055.45\n",
       "2015-12-04  1079.25\n",
       "2015-12-07  1075.80\n",
       "2015-12-08  1072.10\n",
       "2015-12-09  1081.00\n",
       "2015-12-10  1071.00\n",
       "2015-12-11  1072.50\n",
       "2015-12-14  1068.25"
      ]
     },
     "metadata": {},
     "output_type": "display_data"
    },
    {
     "data": {
      "text/html": [
       "<div>\n",
       "<style scoped>\n",
       "    .dataframe tbody tr th:only-of-type {\n",
       "        vertical-align: middle;\n",
       "    }\n",
       "\n",
       "    .dataframe tbody tr th {\n",
       "        vertical-align: top;\n",
       "    }\n",
       "\n",
       "    .dataframe thead th {\n",
       "        text-align: right;\n",
       "    }\n",
       "</style>\n",
       "<table border=\"1\" class=\"dataframe\">\n",
       "  <thead>\n",
       "    <tr style=\"text-align: right;\">\n",
       "      <th></th>\n",
       "      <th>Close</th>\n",
       "    </tr>\n",
       "    <tr>\n",
       "      <th>Date</th>\n",
       "      <th></th>\n",
       "    </tr>\n",
       "  </thead>\n",
       "  <tbody>\n",
       "    <tr>\n",
       "      <th>2022-08-08</th>\n",
       "      <td>1784.05</td>\n",
       "    </tr>\n",
       "    <tr>\n",
       "      <th>2022-08-09</th>\n",
       "      <td>1795.25</td>\n",
       "    </tr>\n",
       "    <tr>\n",
       "      <th>2022-08-10</th>\n",
       "      <td>1795.05</td>\n",
       "    </tr>\n",
       "    <tr>\n",
       "      <th>2022-08-11</th>\n",
       "      <td>1796.70</td>\n",
       "    </tr>\n",
       "    <tr>\n",
       "      <th>2022-08-12</th>\n",
       "      <td>1792.10</td>\n",
       "    </tr>\n",
       "    <tr>\n",
       "      <th>2022-08-15</th>\n",
       "      <td>1776.60</td>\n",
       "    </tr>\n",
       "    <tr>\n",
       "      <th>2022-08-16</th>\n",
       "      <td>1774.85</td>\n",
       "    </tr>\n",
       "    <tr>\n",
       "      <th>2022-08-17</th>\n",
       "      <td>1767.20</td>\n",
       "    </tr>\n",
       "    <tr>\n",
       "      <th>2022-08-18</th>\n",
       "      <td>1765.55</td>\n",
       "    </tr>\n",
       "    <tr>\n",
       "      <th>2022-08-19</th>\n",
       "      <td>1750.75</td>\n",
       "    </tr>\n",
       "  </tbody>\n",
       "</table>\n",
       "</div>"
      ],
      "text/plain": [
       "              Close\n",
       "Date               \n",
       "2022-08-08  1784.05\n",
       "2022-08-09  1795.25\n",
       "2022-08-10  1795.05\n",
       "2022-08-11  1796.70\n",
       "2022-08-12  1792.10\n",
       "2022-08-15  1776.60\n",
       "2022-08-16  1774.85\n",
       "2022-08-17  1767.20\n",
       "2022-08-18  1765.55\n",
       "2022-08-19  1750.75"
      ]
     },
     "metadata": {},
     "output_type": "display_data"
    }
   ],
   "source": [
    "lmba_gold_df.sort_values(by='Date', ascending=True, inplace=True)\n",
    "\n",
    "lmba_gold_split_2018 = lmba_gold_df.loc[\n",
    "    (lmba_gold_df['Date'] >= \"2015-12-01\")\n",
    "    & (lmba_gold_df['Date'] <= \"2022-08-22\")\n",
    "]\n",
    "# lmba_gold_df.sort_values(by='Date', ascending=True, inplace=True)\n",
    "# lmba_gold_df.set_index('Date', inplace=True)\n",
    "lmba_gold_split_2018.set_index('Date', inplace=True)\n",
    "\n",
    "print(lmba_gold_split_2018.shape)\n",
    "\n",
    "display(lmba_gold_split_2018.head(10))\n",
    "display(lmba_gold_split_2018.tail(10))\n"
   ]
  },
  {
   "cell_type": "markdown",
   "id": "0ecaa176-151c-44d6-96b0-a9c6d93ac0fb",
   "metadata": {},
   "source": []
  },
  {
   "cell_type": "code",
   "execution_count": null,
   "id": "6d4df661-cf4c-464c-bff6-5efa05f85165",
   "metadata": {},
   "outputs": [],
   "source": []
  },
  {
   "cell_type": "code",
   "execution_count": null,
   "id": "d3344ac3-1609-418c-ad5b-e4d4f72b68e1",
   "metadata": {},
   "outputs": [],
   "source": [
    "sns.set(rc={'figure.figsize':(20,10)})\n",
    "plt.xlabel(\"Gold Prices from 2018(December) - 2022 (August)\", size = 16)\n",
    "plt.ylabel(\"Closing Price $\", size = 16)\n",
    "plt.title(\"LMBA Gold Price History\", size = 24)\n",
    "lmba_sense = sns.lineplot(x = \"Date\", y =\"Close\", data = lmba_gold_split_2018, ci=False, markers=True\n",
    ")\n"
   ]
  },
  {
   "cell_type": "code",
   "execution_count": null,
   "id": "6548d085-5baa-4ed9-9f96-e4aef3d565da",
   "metadata": {},
   "outputs": [],
   "source": []
  },
  {
   "cell_type": "code",
   "execution_count": null,
   "id": "02328acb-2a02-4d1a-818c-fe4d4f5d9c20",
   "metadata": {},
   "outputs": [],
   "source": []
  }
 ],
 "metadata": {
  "kernelspec": {
   "display_name": "Python 3 (ipykernel)",
   "language": "python",
   "name": "python3"
  },
  "language_info": {
   "codemirror_mode": {
    "name": "ipython",
    "version": 3
   },
   "file_extension": ".py",
   "mimetype": "text/x-python",
   "name": "python",
   "nbconvert_exporter": "python",
   "pygments_lexer": "ipython3",
   "version": "3.9.12"
  }
 },
 "nbformat": 4,
 "nbformat_minor": 5
}
