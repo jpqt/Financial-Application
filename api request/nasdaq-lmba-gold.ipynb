{
 "cells": [
  {
   "cell_type": "markdown",
   "id": "b687b291-454e-4d48-be53-708f11d9cdca",
   "metadata": {},
   "source": [
    "# GoldSpy Investments\n",
    "GoldSpy Investments, An up and coming investment fund management took on a small client recently, who wanted to invest a small amount of capital with them. As a beginner to the financial markets he wanted to see if Gold or the S&P500 would be more of a sound investment for the future.\n",
    "\n",
    "GoldSpy Investments will not present to the client, historical data on both markets, and show which investment is more volatile and lastly what the future may hold for each investment, which the client would then choose to invest in long term.\n",
    "\n",
    "\n"
   ]
  },
  {
   "cell_type": "code",
   "execution_count": 21,
   "id": "824be099-f911-4d5d-8fe8-904b6738fd67",
   "metadata": {
    "tags": []
   },
   "outputs": [],
   "source": [
    "#import required libraries and dependencies \n",
    "\n",
    "import pandas as pd\n",
    "from pathlib import Path\n",
    "import os\n",
    "from dotenv import load_dotenv\n",
    "import requests\n",
    "import json\n",
    "import seaborn as sns\n",
    "import numpy as np\n",
    "import alpaca_trade_api as tradeapi\n",
    "import datetime as dt\n",
    "import pytz\n",
    "import hvplot.pandas\n",
    "%matplotlib inline\n",
    "import matplotlib.pyplot as plt"
   ]
  },
  {
   "cell_type": "code",
   "execution_count": null,
   "id": "32b09c8e-18e3-4579-996d-e55ddee01a31",
   "metadata": {},
   "outputs": [],
   "source": [
    "# Load .env enviroment variables into the notebook\n",
    "load_dotenv()"
   ]
  },
  {
   "cell_type": "markdown",
   "id": "345610a9-7749-45d9-80cb-0680aeafe198",
   "metadata": {},
   "source": [
    "### Enter LMBA Gold Stock Data"
   ]
  },
  {
   "cell_type": "code",
   "execution_count": null,
   "id": "9f2a2c62-e4fe-4dcf-88af-aba8f14db283",
   "metadata": {},
   "outputs": [],
   "source": [
    "# Create `start_date` and `end_date` variables\n",
    "# Both should hold the same date of `2020-07-31`\n",
    "start_date = '2020-07-31'\n",
    "end_date = '2022-08-22'"
   ]
  },
  {
   "cell_type": "markdown",
   "id": "6b06e5b0-6639-47aa-8387-899e3421c96d",
   "metadata": {},
   "source": [
    "### Collect The Data\n",
    "Retrieve and API Key from Nasdaq and store it as a python variable, create a request and response library by using the Nasdaq endpoints.\n"
   ]
  },
  {
   "cell_type": "code",
   "execution_count": null,
   "id": "cad33b08-1c63-4139-982f-b2acaecc39fb",
   "metadata": {},
   "outputs": [],
   "source": [
    "#retrieve api key from env variable and store as python variable\n",
    "nasdaq_api_key = os.getenv(\"nasdaq_api_key\")\n",
    "\n",
    "#define base request url for nasdaq\n",
    "request_url = \"https://www.nasdaq.com/market-activity\""
   ]
  },
  {
   "cell_type": "code",
   "execution_count": null,
   "id": "da825585-d521-4d66-98be-11f8fc590653",
   "metadata": {
    "tags": []
   },
   "outputs": [],
   "source": [
    "#make API request from nasdaq site\n",
    "#display response data (super long list)\n",
    "lmba_response = requests.get(\"https://data.nasdaq.com/api/v3/datasets\").json()\n",
    "#print(json.dumps(response, indent=4, sort_keys=True)) (maybe not this section)"
   ]
  },
  {
   "cell_type": "code",
   "execution_count": null,
   "id": "d33b051b-8f99-4360-ada9-cfeccabbaa3b",
   "metadata": {
    "tags": []
   },
   "outputs": [],
   "source": [
    "#set the GOLD endpoint\n",
    "\n",
    "lmba_gold_url =\"https://data.nasdaq.com/api/v3/datasets/LBMA/GOLD?start_date=2022-01-01&end_date=2022-08-22&api_key=Mwi4EGHuLPX4L1CEfouP\"\n",
    "\n",
    "requests.get(lmba_gold_url).json()\n"
   ]
  },
  {
   "cell_type": "markdown",
   "id": "99007949-a853-4362-81c1-5cb07847a828",
   "metadata": {},
   "source": [
    "### Use pandas\n",
    "create `read_csv` function and `Path` module to import data from `LMBAGOLD.csv` file and create a dataframe and post 10 most recent prices."
   ]
  },
  {
   "cell_type": "code",
   "execution_count": 23,
   "id": "ec422c9e-0b37-4f0d-be95-9a5366bbc2c7",
   "metadata": {
    "tags": []
   },
   "outputs": [
    {
     "data": {
      "text/html": [
       "<div>\n",
       "<style scoped>\n",
       "    .dataframe tbody tr th:only-of-type {\n",
       "        vertical-align: middle;\n",
       "    }\n",
       "\n",
       "    .dataframe tbody tr th {\n",
       "        vertical-align: top;\n",
       "    }\n",
       "\n",
       "    .dataframe thead th {\n",
       "        text-align: right;\n",
       "    }\n",
       "</style>\n",
       "<table border=\"1\" class=\"dataframe\">\n",
       "  <thead>\n",
       "    <tr style=\"text-align: right;\">\n",
       "      <th></th>\n",
       "      <th>USD (AM)</th>\n",
       "      <th>USD (PM)</th>\n",
       "      <th>GBP (AM)</th>\n",
       "      <th>GBP (PM)</th>\n",
       "      <th>EURO (AM)</th>\n",
       "      <th>EURO (PM)</th>\n",
       "    </tr>\n",
       "    <tr>\n",
       "      <th>Date</th>\n",
       "      <th></th>\n",
       "      <th></th>\n",
       "      <th></th>\n",
       "      <th></th>\n",
       "      <th></th>\n",
       "      <th></th>\n",
       "    </tr>\n",
       "  </thead>\n",
       "  <tbody>\n",
       "    <tr>\n",
       "      <th>2022-08-19</th>\n",
       "      <td>1752.90</td>\n",
       "      <td>1750.75</td>\n",
       "      <td>1476.12</td>\n",
       "      <td>1480.96</td>\n",
       "      <td>1738.53</td>\n",
       "      <td>1742.00</td>\n",
       "    </tr>\n",
       "    <tr>\n",
       "      <th>2022-08-18</th>\n",
       "      <td>1765.60</td>\n",
       "      <td>1765.55</td>\n",
       "      <td>1466.15</td>\n",
       "      <td>1470.53</td>\n",
       "      <td>1737.53</td>\n",
       "      <td>1744.36</td>\n",
       "    </tr>\n",
       "    <tr>\n",
       "      <th>2022-08-17</th>\n",
       "      <td>1773.65</td>\n",
       "      <td>1767.20</td>\n",
       "      <td>1465.92</td>\n",
       "      <td>1463.77</td>\n",
       "      <td>1742.97</td>\n",
       "      <td>1737.16</td>\n",
       "    </tr>\n",
       "    <tr>\n",
       "      <th>2022-08-16</th>\n",
       "      <td>1776.15</td>\n",
       "      <td>1774.85</td>\n",
       "      <td>1476.16</td>\n",
       "      <td>1469.22</td>\n",
       "      <td>1752.70</td>\n",
       "      <td>1745.92</td>\n",
       "    </tr>\n",
       "    <tr>\n",
       "      <th>2022-08-15</th>\n",
       "      <td>1781.45</td>\n",
       "      <td>1776.60</td>\n",
       "      <td>1478.07</td>\n",
       "      <td>1469.78</td>\n",
       "      <td>1748.67</td>\n",
       "      <td>1742.13</td>\n",
       "    </tr>\n",
       "    <tr>\n",
       "      <th>2022-08-12</th>\n",
       "      <td>1788.45</td>\n",
       "      <td>1792.10</td>\n",
       "      <td>1472.61</td>\n",
       "      <td>1480.63</td>\n",
       "      <td>1735.87</td>\n",
       "      <td>1746.76</td>\n",
       "    </tr>\n",
       "    <tr>\n",
       "      <th>2022-08-11</th>\n",
       "      <td>1789.70</td>\n",
       "      <td>1796.70</td>\n",
       "      <td>1464.15</td>\n",
       "      <td>1467.54</td>\n",
       "      <td>1732.07</td>\n",
       "      <td>1734.35</td>\n",
       "    </tr>\n",
       "    <tr>\n",
       "      <th>2022-08-10</th>\n",
       "      <td>1793.50</td>\n",
       "      <td>1795.05</td>\n",
       "      <td>1482.15</td>\n",
       "      <td>1468.17</td>\n",
       "      <td>1753.33</td>\n",
       "      <td>1739.22</td>\n",
       "    </tr>\n",
       "    <tr>\n",
       "      <th>2022-08-09</th>\n",
       "      <td>1790.60</td>\n",
       "      <td>1795.25</td>\n",
       "      <td>1477.42</td>\n",
       "      <td>1482.34</td>\n",
       "      <td>1748.88</td>\n",
       "      <td>1753.60</td>\n",
       "    </tr>\n",
       "    <tr>\n",
       "      <th>2022-08-08</th>\n",
       "      <td>1775.70</td>\n",
       "      <td>1784.05</td>\n",
       "      <td>1469.92</td>\n",
       "      <td>1471.48</td>\n",
       "      <td>1744.09</td>\n",
       "      <td>1748.90</td>\n",
       "    </tr>\n",
       "  </tbody>\n",
       "</table>\n",
       "</div>"
      ],
      "text/plain": [
       "            USD (AM)  USD (PM)  GBP (AM)  GBP (PM)  EURO (AM)  EURO (PM)\n",
       "Date                                                                    \n",
       "2022-08-19   1752.90   1750.75   1476.12   1480.96    1738.53    1742.00\n",
       "2022-08-18   1765.60   1765.55   1466.15   1470.53    1737.53    1744.36\n",
       "2022-08-17   1773.65   1767.20   1465.92   1463.77    1742.97    1737.16\n",
       "2022-08-16   1776.15   1774.85   1476.16   1469.22    1752.70    1745.92\n",
       "2022-08-15   1781.45   1776.60   1478.07   1469.78    1748.67    1742.13\n",
       "2022-08-12   1788.45   1792.10   1472.61   1480.63    1735.87    1746.76\n",
       "2022-08-11   1789.70   1796.70   1464.15   1467.54    1732.07    1734.35\n",
       "2022-08-10   1793.50   1795.05   1482.15   1468.17    1753.33    1739.22\n",
       "2022-08-09   1790.60   1795.25   1477.42   1482.34    1748.88    1753.60\n",
       "2022-08-08   1775.70   1784.05   1469.92   1471.48    1744.09    1748.90"
      ]
     },
     "execution_count": 23,
     "metadata": {},
     "output_type": "execute_result"
    }
   ],
   "source": [
    "## Using the read_csv function and Path module, create a DataFrame \n",
    "# import information from \"LBMAGOLD.csv\"\n",
    "lmba_gold_csv = Path(\"../Resources/LBMAGOLD.csv\")\n",
    "\n",
    "lmba_gold_df = pd.read_csv(\n",
    "    lmba_gold_csv,\n",
    "    index_col='Date',\n",
    "    infer_datetime_format=True,\n",
    "    parse_dates=True)\n",
    "\n",
    "#review the first 10 and last 10 rows.\n",
    "\n",
    "lmba_gold_df.head(10)\n"
   ]
  },
  {
   "cell_type": "code",
   "execution_count": null,
   "id": "565e3c75-c66a-43ac-95ff-1cecceb83f6c",
   "metadata": {},
   "outputs": [],
   "source": [
    "lmba_gold_df.hvplot.line()\n"
   ]
  },
  {
   "cell_type": "code",
   "execution_count": null,
   "id": "6d4df661-cf4c-464c-bff6-5efa05f85165",
   "metadata": {},
   "outputs": [],
   "source": []
  }
 ],
 "metadata": {
  "kernelspec": {
   "display_name": "Python 3 (ipykernel)",
   "language": "python",
   "name": "python3"
  },
  "language_info": {
   "codemirror_mode": {
    "name": "ipython",
    "version": 3
   },
   "file_extension": ".py",
   "mimetype": "text/x-python",
   "name": "python",
   "nbconvert_exporter": "python",
   "pygments_lexer": "ipython3",
   "version": "3.7.13"
  }
 },
 "nbformat": 4,
 "nbformat_minor": 5
}
