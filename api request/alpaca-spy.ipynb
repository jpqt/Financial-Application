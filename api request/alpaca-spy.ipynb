{
 "cells": [
  {
   "cell_type": "code",
   "execution_count": 27,
   "id": "c04ea874-986e-4546-a9bb-df94bace2d94",
   "metadata": {},
   "outputs": [],
   "source": [
    "#using alpaca to get tsla and gold data\n",
    "\n",
    "#import libraries\n",
    "import pandas as pd\n",
    "import os\n",
    "from dotenv import load_dotenv\n",
    "import alpaca_trade_api as tradeapi\n",
    "import requests\n",
    "import json"
   ]
  },
  {
   "cell_type": "code",
   "execution_count": 28,
   "id": "19377abf-a24a-40b9-bc36-79d374157ea0",
   "metadata": {},
   "outputs": [
    {
     "data": {
      "text/plain": [
       "True"
      ]
     },
     "execution_count": 28,
     "metadata": {},
     "output_type": "execute_result"
    }
   ],
   "source": [
    "load_dotenv()"
   ]
  },
  {
   "cell_type": "code",
   "execution_count": 29,
   "id": "e080db4f-e051-421d-a86e-a88317df593c",
   "metadata": {},
   "outputs": [
    {
     "data": {
      "text/plain": [
       "str"
      ]
     },
     "metadata": {},
     "output_type": "display_data"
    },
    {
     "data": {
      "text/plain": [
       "str"
      ]
     },
     "metadata": {},
     "output_type": "display_data"
    }
   ],
   "source": [
    "# Set the variables for the Alpaca API and secret keys\n",
    "alpaca_api_key = os.getenv(\"alpaca_api_key\")\n",
    "alpaca_secret_key = os.getenv(\"alpaca_secret_key\")\n",
    "display(type(alpaca_api_key))\n",
    "display(type(alpaca_secret_key))\n",
    "\n"
   ]
  },
  {
   "cell_type": "code",
   "execution_count": 30,
   "id": "695a58fb-ea43-49fc-9b7d-196305f8d51d",
   "metadata": {},
   "outputs": [],
   "source": [
    "#create alpaca api object\n",
    "alpaca = tradeapi.REST(\n",
    "    alpaca_api_key,\n",
    "    alpaca_secret_key,\n",
    "    api_version=\"v2\")\n",
    "\n",
    "#display response data\n",
    "#print(json.dumps(request_url,indent=4,sort_keys=True))"
   ]
  },
  {
   "cell_type": "code",
   "execution_count": 31,
   "id": "fabf68d5-be73-4bfd-9de6-7588ce01b22f",
   "metadata": {},
   "outputs": [],
   "source": [
    "#format current dat as iso format for ticker SPY\n",
    "#come back to choose time period for project.\n",
    "\n",
    "start_date = pd.Timestamp(\"2020-06-01\",tz=\"America/New_York\").isoformat()\n",
    "end_date = pd.Timestamp(\"2020-06-05\",tz=\"America/New_York\").isoformat()"
   ]
  },
  {
   "cell_type": "code",
   "execution_count": 32,
   "id": "56e96f59-61d6-4db3-9d36-33470b273acd",
   "metadata": {},
   "outputs": [],
   "source": [
    "tickers = [\"SPY\"]"
   ]
  },
  {
   "cell_type": "code",
   "execution_count": 33,
   "id": "0ad2eca5-4284-4314-8213-09733a9c7e56",
   "metadata": {},
   "outputs": [],
   "source": [
    "#set timeframe to ('1Day') for alpaca api\n",
    "timeframe = '1Day'"
   ]
  },
  {
   "cell_type": "code",
   "execution_count": 34,
   "id": "bd1dacdc-2802-410f-ae0d-b673e897d460",
   "metadata": {},
   "outputs": [
    {
     "data": {
      "text/html": [
       "<div>\n",
       "<style scoped>\n",
       "    .dataframe tbody tr th:only-of-type {\n",
       "        vertical-align: middle;\n",
       "    }\n",
       "\n",
       "    .dataframe tbody tr th {\n",
       "        vertical-align: top;\n",
       "    }\n",
       "\n",
       "    .dataframe thead th {\n",
       "        text-align: right;\n",
       "    }\n",
       "</style>\n",
       "<table border=\"1\" class=\"dataframe\">\n",
       "  <thead>\n",
       "    <tr style=\"text-align: right;\">\n",
       "      <th></th>\n",
       "      <th>open</th>\n",
       "      <th>high</th>\n",
       "      <th>low</th>\n",
       "      <th>close</th>\n",
       "      <th>volume</th>\n",
       "      <th>trade_count</th>\n",
       "      <th>vwap</th>\n",
       "      <th>symbol</th>\n",
       "    </tr>\n",
       "    <tr>\n",
       "      <th>timestamp</th>\n",
       "      <th></th>\n",
       "      <th></th>\n",
       "      <th></th>\n",
       "      <th></th>\n",
       "      <th></th>\n",
       "      <th></th>\n",
       "      <th></th>\n",
       "      <th></th>\n",
       "    </tr>\n",
       "  </thead>\n",
       "  <tbody>\n",
       "    <tr>\n",
       "      <th>2020-06-01 04:00:00+00:00</th>\n",
       "      <td>303.63</td>\n",
       "      <td>306.205</td>\n",
       "      <td>303.06</td>\n",
       "      <td>305.55</td>\n",
       "      <td>56679836</td>\n",
       "      <td>316834</td>\n",
       "      <td>305.036356</td>\n",
       "      <td>SPY</td>\n",
       "    </tr>\n",
       "    <tr>\n",
       "      <th>2020-06-02 04:00:00+00:00</th>\n",
       "      <td>306.52</td>\n",
       "      <td>308.130</td>\n",
       "      <td>305.10</td>\n",
       "      <td>308.08</td>\n",
       "      <td>74267162</td>\n",
       "      <td>385680</td>\n",
       "      <td>306.679370</td>\n",
       "      <td>SPY</td>\n",
       "    </tr>\n",
       "    <tr>\n",
       "      <th>2020-06-03 04:00:00+00:00</th>\n",
       "      <td>310.26</td>\n",
       "      <td>313.220</td>\n",
       "      <td>309.94</td>\n",
       "      <td>312.18</td>\n",
       "      <td>92567574</td>\n",
       "      <td>437729</td>\n",
       "      <td>311.489151</td>\n",
       "      <td>SPY</td>\n",
       "    </tr>\n",
       "    <tr>\n",
       "      <th>2020-06-04 04:00:00+00:00</th>\n",
       "      <td>311.12</td>\n",
       "      <td>313.000</td>\n",
       "      <td>309.08</td>\n",
       "      <td>311.36</td>\n",
       "      <td>75794363</td>\n",
       "      <td>423728</td>\n",
       "      <td>311.272310</td>\n",
       "      <td>SPY</td>\n",
       "    </tr>\n",
       "    <tr>\n",
       "      <th>2020-06-05 04:00:00+00:00</th>\n",
       "      <td>317.41</td>\n",
       "      <td>321.275</td>\n",
       "      <td>317.16</td>\n",
       "      <td>319.34</td>\n",
       "      <td>151025824</td>\n",
       "      <td>643278</td>\n",
       "      <td>318.179047</td>\n",
       "      <td>SPY</td>\n",
       "    </tr>\n",
       "  </tbody>\n",
       "</table>\n",
       "</div>"
      ],
      "text/plain": [
       "                             open     high     low   close     volume  \\\n",
       "timestamp                                                               \n",
       "2020-06-01 04:00:00+00:00  303.63  306.205  303.06  305.55   56679836   \n",
       "2020-06-02 04:00:00+00:00  306.52  308.130  305.10  308.08   74267162   \n",
       "2020-06-03 04:00:00+00:00  310.26  313.220  309.94  312.18   92567574   \n",
       "2020-06-04 04:00:00+00:00  311.12  313.000  309.08  311.36   75794363   \n",
       "2020-06-05 04:00:00+00:00  317.41  321.275  317.16  319.34  151025824   \n",
       "\n",
       "                           trade_count        vwap symbol  \n",
       "timestamp                                                  \n",
       "2020-06-01 04:00:00+00:00       316834  305.036356    SPY  \n",
       "2020-06-02 04:00:00+00:00       385680  306.679370    SPY  \n",
       "2020-06-03 04:00:00+00:00       437729  311.489151    SPY  \n",
       "2020-06-04 04:00:00+00:00       423728  311.272310    SPY  \n",
       "2020-06-05 04:00:00+00:00       643278  318.179047    SPY  "
      ]
     },
     "execution_count": 34,
     "metadata": {},
     "output_type": "execute_result"
    }
   ],
   "source": [
    "#closing price for SPY\n",
    "\n",
    "spy_df = alpaca.get_bars(\n",
    "    tickers,\n",
    "    timeframe,\n",
    "    start=start_date,\n",
    "    end=end_date\n",
    ").df\n",
    "\n",
    "spy_df"
   ]
  },
  {
   "cell_type": "code",
   "execution_count": 35,
   "id": "40bee0ce-8216-4070-93c8-359fc37edc6f",
   "metadata": {},
   "outputs": [
    {
     "data": {
      "text/html": [
       "<div>\n",
       "<style scoped>\n",
       "    .dataframe tbody tr th:only-of-type {\n",
       "        vertical-align: middle;\n",
       "    }\n",
       "\n",
       "    .dataframe tbody tr th {\n",
       "        vertical-align: top;\n",
       "    }\n",
       "\n",
       "    .dataframe thead tr th {\n",
       "        text-align: left;\n",
       "    }\n",
       "\n",
       "    .dataframe thead tr:last-of-type th {\n",
       "        text-align: right;\n",
       "    }\n",
       "</style>\n",
       "<table border=\"1\" class=\"dataframe\">\n",
       "  <thead>\n",
       "    <tr>\n",
       "      <th></th>\n",
       "      <th colspan=\"7\" halign=\"left\">SPY</th>\n",
       "    </tr>\n",
       "    <tr>\n",
       "      <th></th>\n",
       "      <th>open</th>\n",
       "      <th>high</th>\n",
       "      <th>low</th>\n",
       "      <th>close</th>\n",
       "      <th>volume</th>\n",
       "      <th>trade_count</th>\n",
       "      <th>vwap</th>\n",
       "    </tr>\n",
       "    <tr>\n",
       "      <th>timestamp</th>\n",
       "      <th></th>\n",
       "      <th></th>\n",
       "      <th></th>\n",
       "      <th></th>\n",
       "      <th></th>\n",
       "      <th></th>\n",
       "      <th></th>\n",
       "    </tr>\n",
       "  </thead>\n",
       "  <tbody>\n",
       "    <tr>\n",
       "      <th>2020-06-01 04:00:00+00:00</th>\n",
       "      <td>303.63</td>\n",
       "      <td>306.205</td>\n",
       "      <td>303.06</td>\n",
       "      <td>305.55</td>\n",
       "      <td>56679836</td>\n",
       "      <td>316834</td>\n",
       "      <td>305.036356</td>\n",
       "    </tr>\n",
       "    <tr>\n",
       "      <th>2020-06-02 04:00:00+00:00</th>\n",
       "      <td>306.52</td>\n",
       "      <td>308.130</td>\n",
       "      <td>305.10</td>\n",
       "      <td>308.08</td>\n",
       "      <td>74267162</td>\n",
       "      <td>385680</td>\n",
       "      <td>306.679370</td>\n",
       "    </tr>\n",
       "    <tr>\n",
       "      <th>2020-06-03 04:00:00+00:00</th>\n",
       "      <td>310.26</td>\n",
       "      <td>313.220</td>\n",
       "      <td>309.94</td>\n",
       "      <td>312.18</td>\n",
       "      <td>92567574</td>\n",
       "      <td>437729</td>\n",
       "      <td>311.489151</td>\n",
       "    </tr>\n",
       "    <tr>\n",
       "      <th>2020-06-04 04:00:00+00:00</th>\n",
       "      <td>311.12</td>\n",
       "      <td>313.000</td>\n",
       "      <td>309.08</td>\n",
       "      <td>311.36</td>\n",
       "      <td>75794363</td>\n",
       "      <td>423728</td>\n",
       "      <td>311.272310</td>\n",
       "    </tr>\n",
       "    <tr>\n",
       "      <th>2020-06-05 04:00:00+00:00</th>\n",
       "      <td>317.41</td>\n",
       "      <td>321.275</td>\n",
       "      <td>317.16</td>\n",
       "      <td>319.34</td>\n",
       "      <td>151025824</td>\n",
       "      <td>643278</td>\n",
       "      <td>318.179047</td>\n",
       "    </tr>\n",
       "  </tbody>\n",
       "</table>\n",
       "</div>"
      ],
      "text/plain": [
       "                              SPY                                      \\\n",
       "                             open     high     low   close     volume   \n",
       "timestamp                                                               \n",
       "2020-06-01 04:00:00+00:00  303.63  306.205  303.06  305.55   56679836   \n",
       "2020-06-02 04:00:00+00:00  306.52  308.130  305.10  308.08   74267162   \n",
       "2020-06-03 04:00:00+00:00  310.26  313.220  309.94  312.18   92567574   \n",
       "2020-06-04 04:00:00+00:00  311.12  313.000  309.08  311.36   75794363   \n",
       "2020-06-05 04:00:00+00:00  317.41  321.275  317.16  319.34  151025824   \n",
       "\n",
       "                                                   \n",
       "                          trade_count        vwap  \n",
       "timestamp                                          \n",
       "2020-06-01 04:00:00+00:00      316834  305.036356  \n",
       "2020-06-02 04:00:00+00:00      385680  306.679370  \n",
       "2020-06-03 04:00:00+00:00      437729  311.489151  \n",
       "2020-06-04 04:00:00+00:00      423728  311.272310  \n",
       "2020-06-05 04:00:00+00:00      643278  318.179047  "
      ]
     },
     "execution_count": 35,
     "metadata": {},
     "output_type": "execute_result"
    }
   ],
   "source": [
    "#seperate ticker data\n",
    "\n",
    "SPY = spy_df[spy_df['symbol']=='SPY'].drop('symbol',axis=1)\n",
    "\n",
    "\n",
    "#concat\n",
    "spy_df = pd.concat([SPY],axis=1,keys=['SPY'])\n",
    "\n",
    "spy_df"
   ]
  },
  {
   "cell_type": "code",
   "execution_count": 36,
   "id": "bdc76438-27df-40b3-bbbb-b197270b652a",
   "metadata": {},
   "outputs": [
    {
     "data": {
      "text/plain": [
       "timestamp\n",
       "2020-06-01 04:00:00+00:00    305.55\n",
       "2020-06-02 04:00:00+00:00    308.08\n",
       "2020-06-03 04:00:00+00:00    312.18\n",
       "2020-06-04 04:00:00+00:00    311.36\n",
       "2020-06-05 04:00:00+00:00    319.34\n",
       "Name: close, dtype: float64"
      ]
     },
     "execution_count": 36,
     "metadata": {},
     "output_type": "execute_result"
    }
   ],
   "source": [
    "#closing price for SPY \n",
    "\n",
    "spy_close = spy_df[\"SPY\"][\"close\"]\n",
    "spy_close"
   ]
  },
  {
   "cell_type": "code",
   "execution_count": 37,
   "id": "3fa97151-5246-4dec-8929-f2c59c772d96",
   "metadata": {},
   "outputs": [],
   "source": [
    "#empty DataFrame for closing prices\n",
    "\n",
    "spy_closing_df = pd.DataFrame()\n",
    "\n",
    "#get the closing price of SPY\n",
    "\n"
   ]
  }
 ],
 "metadata": {
  "kernelspec": {
   "display_name": "Python 3 (ipykernel)",
   "language": "python",
   "name": "python3"
  },
  "language_info": {
   "codemirror_mode": {
    "name": "ipython",
    "version": 3
   },
   "file_extension": ".py",
   "mimetype": "text/x-python",
   "name": "python",
   "nbconvert_exporter": "python",
   "pygments_lexer": "ipython3",
   "version": "3.7.13"
  }
 },
 "nbformat": 4,
 "nbformat_minor": 5
}
