{
 "cells": [
  {
   "cell_type": "markdown",
   "id": "0a352eca-b9c8-44fe-a330-6b744de14865",
   "metadata": {},
   "source": [
    "\n",
    "Make an API call to Alpaca via Alpaca SDK to get history closing prices of SPY.\n"
   ]
  },
  {
   "cell_type": "code",
   "execution_count": 9,
   "id": "c04ea874-986e-4546-a9bb-df94bace2d94",
   "metadata": {},
   "outputs": [],
   "source": [
    "#using alpaca to get tsla and gold data\n",
    "\n",
    "#import libraries\n",
    "import pandas as pd\n",
    "import os\n",
    "from dotenv import load_dotenv\n",
    "import alpaca_trade_api as tradeapi\n",
    "import requests\n",
    "import hvplot.pandas\n",
    "import json"
   ]
  },
  {
   "cell_type": "code",
   "execution_count": 10,
   "id": "19377abf-a24a-40b9-bc36-79d374157ea0",
   "metadata": {},
   "outputs": [
    {
     "name": "stderr",
     "output_type": "stream",
     "text": [
      "Python-dotenv could not parse statement starting at line 1\n"
     ]
    },
    {
     "data": {
      "text/plain": [
       "True"
      ]
     },
     "execution_count": 10,
     "metadata": {},
     "output_type": "execute_result"
    }
   ],
   "source": [
    "load_dotenv()"
   ]
  },
  {
   "cell_type": "markdown",
   "id": "84813f5e-4609-444c-b737-c8cdfab1aa5a",
   "metadata": {},
   "source": [
    "Create a .env folder with Alpaca API key and Alpaca secret key.\n",
    "\n",
    "Set variables for Alpaca API and Alpaca secret keys.\n",
    "\n",
    "\n",
    "call API keys using os.getenv \n",
    "\n",
    "\n",
    "Create tradeapi.REST object with the Alpaca key and secret keys along with version number."
   ]
  },
  {
   "cell_type": "code",
   "execution_count": 12,
   "id": "2fcdbcf3-fd8a-42bb-85af-c677fd565224",
   "metadata": {},
   "outputs": [
    {
     "data": {
      "text/plain": [
       "str"
      ]
     },
     "metadata": {},
     "output_type": "display_data"
    },
    {
     "data": {
      "text/plain": [
       "str"
      ]
     },
     "metadata": {},
     "output_type": "display_data"
    }
   ],
   "source": [
    "# Set the variables for the Alpaca API and secret keys\n",
    "alpaca_api_key = os.getenv(\"alpaca_api_key\")\n",
    "alpaca_secret_key = os.getenv(\"alpaca_secret_key\")\n",
    "alpaca_base_url = \"https://paper-api.alpaca.markets\"\n",
    "display(type(alpaca_api_key))\n",
    "display(type(alpaca_secret_key))\n",
    "\n",
    "#create alpaca api object\n",
    "alpaca = tradeapi.REST(\n",
    "    alpaca_api_key,\n",
    "    alpaca_secret_key,\n",
    "    api_version=\"v2\")\n"
   ]
  },
  {
   "cell_type": "markdown",
   "id": "074f1516-16b2-4120-9a5e-66395b7958db",
   "metadata": {},
   "source": [
    "Create parameters for Alpaca Api call setting start and end date"
   ]
  },
  {
   "cell_type": "code",
   "execution_count": 13,
   "id": "fabf68d5-be73-4bfd-9de6-7588ce01b22f",
   "metadata": {},
   "outputs": [],
   "source": [
    "#format current date as iso format for ticker SPY\n",
    "#7 year time period\n",
    "\n",
    "start_date = pd.Timestamp(\"2015-12-01\",tz=\"America/New_York\").isoformat()\n",
    "end_date = pd.Timestamp(\"2022-08-22\",tz=\"America/New_York\").isoformat()\n",
    "\n",
    "#set spy ticker\n",
    "\n",
    "tickers = [\"SPY\"]\n",
    "\n",
    "#set timeframe to ('1Day') for alpaca api \n",
    "timeframe = '1D'"
   ]
  },
  {
   "cell_type": "markdown",
   "id": "3bcef51c-03fd-4e8b-8743-9fcbdb676413",
   "metadata": {},
   "source": [
    "Format response by getting closing price for SPY "
   ]
  },
  {
   "cell_type": "code",
   "execution_count": 15,
   "id": "bd1dacdc-2802-410f-ae0d-b673e897d460",
   "metadata": {},
   "outputs": [
    {
     "data": {
      "text/html": [
       "<div>\n",
       "<style scoped>\n",
       "    .dataframe tbody tr th:only-of-type {\n",
       "        vertical-align: middle;\n",
       "    }\n",
       "\n",
       "    .dataframe tbody tr th {\n",
       "        vertical-align: top;\n",
       "    }\n",
       "\n",
       "    .dataframe thead th {\n",
       "        text-align: right;\n",
       "    }\n",
       "</style>\n",
       "<table border=\"1\" class=\"dataframe\">\n",
       "  <thead>\n",
       "    <tr style=\"text-align: right;\">\n",
       "      <th></th>\n",
       "      <th>open</th>\n",
       "      <th>high</th>\n",
       "      <th>low</th>\n",
       "      <th>close</th>\n",
       "      <th>volume</th>\n",
       "      <th>trade_count</th>\n",
       "      <th>vwap</th>\n",
       "      <th>symbol</th>\n",
       "    </tr>\n",
       "    <tr>\n",
       "      <th>timestamp</th>\n",
       "      <th></th>\n",
       "      <th></th>\n",
       "      <th></th>\n",
       "      <th></th>\n",
       "      <th></th>\n",
       "      <th></th>\n",
       "      <th></th>\n",
       "      <th></th>\n",
       "    </tr>\n",
       "  </thead>\n",
       "  <tbody>\n",
       "    <tr>\n",
       "      <th>2015-12-01 05:00:00+00:00</th>\n",
       "      <td>209.42</td>\n",
       "      <td>210.8200</td>\n",
       "      <td>209.1100</td>\n",
       "      <td>210.68</td>\n",
       "      <td>97858418</td>\n",
       "      <td>337780</td>\n",
       "      <td>209.921410</td>\n",
       "      <td>SPY</td>\n",
       "    </tr>\n",
       "    <tr>\n",
       "      <th>2015-12-02 05:00:00+00:00</th>\n",
       "      <td>210.60</td>\n",
       "      <td>211.0000</td>\n",
       "      <td>208.2300</td>\n",
       "      <td>208.54</td>\n",
       "      <td>108069059</td>\n",
       "      <td>367013</td>\n",
       "      <td>209.563055</td>\n",
       "      <td>SPY</td>\n",
       "    </tr>\n",
       "    <tr>\n",
       "      <th>2015-12-03 05:00:00+00:00</th>\n",
       "      <td>208.90</td>\n",
       "      <td>209.1500</td>\n",
       "      <td>204.7511</td>\n",
       "      <td>205.58</td>\n",
       "      <td>166224154</td>\n",
       "      <td>546768</td>\n",
       "      <td>206.878936</td>\n",
       "      <td>SPY</td>\n",
       "    </tr>\n",
       "    <tr>\n",
       "      <th>2015-12-04 05:00:00+00:00</th>\n",
       "      <td>206.10</td>\n",
       "      <td>209.9700</td>\n",
       "      <td>205.9300</td>\n",
       "      <td>209.66</td>\n",
       "      <td>192878747</td>\n",
       "      <td>556731</td>\n",
       "      <td>208.178631</td>\n",
       "      <td>SPY</td>\n",
       "    </tr>\n",
       "    <tr>\n",
       "      <th>2015-12-07 05:00:00+00:00</th>\n",
       "      <td>209.20</td>\n",
       "      <td>209.7295</td>\n",
       "      <td>207.2000</td>\n",
       "      <td>208.27</td>\n",
       "      <td>102027111</td>\n",
       "      <td>374705</td>\n",
       "      <td>208.276128</td>\n",
       "      <td>SPY</td>\n",
       "    </tr>\n",
       "    <tr>\n",
       "      <th>...</th>\n",
       "      <td>...</td>\n",
       "      <td>...</td>\n",
       "      <td>...</td>\n",
       "      <td>...</td>\n",
       "      <td>...</td>\n",
       "      <td>...</td>\n",
       "      <td>...</td>\n",
       "      <td>...</td>\n",
       "    </tr>\n",
       "    <tr>\n",
       "      <th>2022-08-16 04:00:00+00:00</th>\n",
       "      <td>427.62</td>\n",
       "      <td>431.7300</td>\n",
       "      <td>426.8800</td>\n",
       "      <td>429.70</td>\n",
       "      <td>59118566</td>\n",
       "      <td>410281</td>\n",
       "      <td>429.307919</td>\n",
       "      <td>SPY</td>\n",
       "    </tr>\n",
       "    <tr>\n",
       "      <th>2022-08-17 04:00:00+00:00</th>\n",
       "      <td>425.94</td>\n",
       "      <td>429.5000</td>\n",
       "      <td>424.5400</td>\n",
       "      <td>426.65</td>\n",
       "      <td>63266564</td>\n",
       "      <td>451881</td>\n",
       "      <td>426.965059</td>\n",
       "      <td>SPY</td>\n",
       "    </tr>\n",
       "    <tr>\n",
       "      <th>2022-08-18 04:00:00+00:00</th>\n",
       "      <td>426.78</td>\n",
       "      <td>428.6100</td>\n",
       "      <td>425.5000</td>\n",
       "      <td>427.89</td>\n",
       "      <td>47948507</td>\n",
       "      <td>331980</td>\n",
       "      <td>427.137042</td>\n",
       "      <td>SPY</td>\n",
       "    </tr>\n",
       "    <tr>\n",
       "      <th>2022-08-19 04:00:00+00:00</th>\n",
       "      <td>424.87</td>\n",
       "      <td>425.2600</td>\n",
       "      <td>421.2200</td>\n",
       "      <td>422.14</td>\n",
       "      <td>67861630</td>\n",
       "      <td>438953</td>\n",
       "      <td>423.097019</td>\n",
       "      <td>SPY</td>\n",
       "    </tr>\n",
       "    <tr>\n",
       "      <th>2022-08-22 04:00:00+00:00</th>\n",
       "      <td>417.04</td>\n",
       "      <td>417.2300</td>\n",
       "      <td>412.4000</td>\n",
       "      <td>413.35</td>\n",
       "      <td>77604197</td>\n",
       "      <td>484052</td>\n",
       "      <td>415.048519</td>\n",
       "      <td>SPY</td>\n",
       "    </tr>\n",
       "  </tbody>\n",
       "</table>\n",
       "<p>1694 rows × 8 columns</p>\n",
       "</div>"
      ],
      "text/plain": [
       "                             open      high       low   close     volume  \\\n",
       "timestamp                                                                  \n",
       "2015-12-01 05:00:00+00:00  209.42  210.8200  209.1100  210.68   97858418   \n",
       "2015-12-02 05:00:00+00:00  210.60  211.0000  208.2300  208.54  108069059   \n",
       "2015-12-03 05:00:00+00:00  208.90  209.1500  204.7511  205.58  166224154   \n",
       "2015-12-04 05:00:00+00:00  206.10  209.9700  205.9300  209.66  192878747   \n",
       "2015-12-07 05:00:00+00:00  209.20  209.7295  207.2000  208.27  102027111   \n",
       "...                           ...       ...       ...     ...        ...   \n",
       "2022-08-16 04:00:00+00:00  427.62  431.7300  426.8800  429.70   59118566   \n",
       "2022-08-17 04:00:00+00:00  425.94  429.5000  424.5400  426.65   63266564   \n",
       "2022-08-18 04:00:00+00:00  426.78  428.6100  425.5000  427.89   47948507   \n",
       "2022-08-19 04:00:00+00:00  424.87  425.2600  421.2200  422.14   67861630   \n",
       "2022-08-22 04:00:00+00:00  417.04  417.2300  412.4000  413.35   77604197   \n",
       "\n",
       "                           trade_count        vwap symbol  \n",
       "timestamp                                                  \n",
       "2015-12-01 05:00:00+00:00       337780  209.921410    SPY  \n",
       "2015-12-02 05:00:00+00:00       367013  209.563055    SPY  \n",
       "2015-12-03 05:00:00+00:00       546768  206.878936    SPY  \n",
       "2015-12-04 05:00:00+00:00       556731  208.178631    SPY  \n",
       "2015-12-07 05:00:00+00:00       374705  208.276128    SPY  \n",
       "...                                ...         ...    ...  \n",
       "2022-08-16 04:00:00+00:00       410281  429.307919    SPY  \n",
       "2022-08-17 04:00:00+00:00       451881  426.965059    SPY  \n",
       "2022-08-18 04:00:00+00:00       331980  427.137042    SPY  \n",
       "2022-08-19 04:00:00+00:00       438953  423.097019    SPY  \n",
       "2022-08-22 04:00:00+00:00       484052  415.048519    SPY  \n",
       "\n",
       "[1694 rows x 8 columns]"
      ]
     },
     "execution_count": 15,
     "metadata": {},
     "output_type": "execute_result"
    }
   ],
   "source": [
    "#closing price for SPY\n",
    "\n",
    "alpaca_spy_df = alpaca.get_bars(\n",
    "    tickers,\n",
    "    timeframe,\n",
    "    start=start_date,\n",
    "    end=end_date\n",
    ").df\n",
    "\n",
    "alpaca_spy_df"
   ]
  },
  {
   "cell_type": "markdown",
   "id": "d3cc5a49-1b61-44b5-b8a0-88ab7d47aaf2",
   "metadata": {},
   "source": [
    "Drop the SPY symbol to clean dataframe "
   ]
  },
  {
   "cell_type": "code",
   "execution_count": null,
   "id": "bdc76438-27df-40b3-bbbb-b197270b652a",
   "metadata": {},
   "outputs": [],
   "source": [
    "#close price for SPY \n",
    "\n",
    "SPY = alpaca_spy_df[alpaca_spy_df['symbol']=='SPY'].drop('symbol',axis=1)\n",
    "\n",
    "alpaca_spy_df = pd.concat([SPY],axis=1,keys=['SPY'])\n",
    "display(alpaca_spy_df.head())\n",
    "display(alpaca_spy_df.tail())\n"
   ]
  },
  {
   "cell_type": "markdown",
   "id": "f0ab4c66-3d18-420a-8fba-77c952ffea21",
   "metadata": {},
   "source": [
    "Create SPY closing dataframe by slicing close column in the Spy dataframe"
   ]
  },
  {
   "cell_type": "code",
   "execution_count": null,
   "id": "ab9c3cac-f40f-4d50-aff2-d5de6b74c271",
   "metadata": {},
   "outputs": [],
   "source": [
    "#get closing price for SPY from Alpaca DF\n",
    "\n",
    "\n",
    "spy_close_df =(alpaca_spy_df['SPY']['close'])\n",
    "spy_close_df\n"
   ]
  },
  {
   "cell_type": "markdown",
   "id": "d631322b-7bec-4436-b84a-1cb8015c8a9f",
   "metadata": {},
   "source": [
    "Plot the close price for SPY historical data 2015-2022"
   ]
  },
  {
   "cell_type": "code",
   "execution_count": null,
   "id": "47fda8ee-32ad-4a7c-9c02-aaa75592fdb4",
   "metadata": {},
   "outputs": [],
   "source": [
    "#SPY Historical Data Last 7 Years\n",
    "spy_close_df.hvplot(\n",
    "    y='close',\n",
    "    title='SPY Historical Data 2015-2022',\n",
    "    xlabel='Year 2015-2022',\n",
    "    ylabel='SPY Volume'\n",
    ").opts(\n",
    "    yformatter='%.0f',\n",
    "    color='green'\n",
    ")"
   ]
  },
  {
   "cell_type": "code",
   "execution_count": null,
   "id": "cffeeeb0-1a1c-45d2-a6e6-fd1f399d84a4",
   "metadata": {},
   "outputs": [],
   "source": []
  },
  {
   "cell_type": "code",
   "execution_count": null,
   "id": "49616d23-79c3-4384-bc07-74b2d4e6b7d0",
   "metadata": {},
   "outputs": [],
   "source": []
  }
 ],
 "metadata": {
  "kernelspec": {
   "display_name": "Python 3 (ipykernel)",
   "language": "python",
   "name": "python3"
  },
  "language_info": {
   "codemirror_mode": {
    "name": "ipython",
    "version": 3
   },
   "file_extension": ".py",
   "mimetype": "text/x-python",
   "name": "python",
   "nbconvert_exporter": "python",
   "pygments_lexer": "ipython3",
   "version": "3.7.13"
  }
 },
 "nbformat": 4,
 "nbformat_minor": 5
}
