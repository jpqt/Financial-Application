{
 "cells": [
  {
   "cell_type": "code",
   "execution_count": 1,
   "id": "376f71ec-9401-4e97-be0e-e48eaac721c4",
   "metadata": {},
   "outputs": [],
   "source": [
    "#PROJECT-1 GROUP-3\n",
    "# MAKING ALPACA API CALL WITH REQUEST LIBRARY"
   ]
  },
  {
   "cell_type": "code",
   "execution_count": null,
   "id": "824be099-f911-4d5d-8fe8-904b6738fd67",
   "metadata": {},
   "outputs": [],
   "source": [
    "#import required libraries and dependencies \n",
    "\n",
    "import pandas as pd\n",
    "import requests\n",
    "import json"
   ]
  },
  {
   "cell_type": "code",
   "execution_count": null,
   "id": "da825585-d521-4d66-98be-11f8fc590653",
   "metadata": {},
   "outputs": [],
   "source": [
    "#make API request from nasdaq site\n",
    "#display response data (super long list)\n",
    "response = requests.get(\"https://www.nasdaq.com\").json()\n",
    "print(json.dumps(response, indent=4, sort_keys=True)"
   ]
  },
  {
   "cell_type": "code",
   "execution_count": null,
   "id": "6fbac1bc-cdf9-4eaa-acc7-8278d184bb6d",
   "metadata": {},
   "outputs": [],
   "source": []
  },
  {
   "cell_type": "code",
   "execution_count": null,
   "id": "d33b051b-8f99-4360-ada9-cfeccabbaa3b",
   "metadata": {},
   "outputs": [],
   "source": [
    "#set the gold endpoint\n",
    "\n",
    "lmba_gold_url = "
   ]
  }
 ],
 "metadata": {
  "kernelspec": {
   "display_name": "Python 3 (ipykernel)",
   "language": "python",
   "name": "python3"
  },
  "language_info": {
   "codemirror_mode": {
    "name": "ipython",
    "version": 3
   },
   "file_extension": ".py",
   "mimetype": "text/x-python",
   "name": "python",
   "nbconvert_exporter": "python",
   "pygments_lexer": "ipython3",
   "version": "3.7.13"
  }
 },
 "nbformat": 4,
 "nbformat_minor": 5
}
