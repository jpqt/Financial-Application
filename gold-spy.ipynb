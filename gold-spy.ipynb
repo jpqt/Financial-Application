{
 "cells": [
  {
   "cell_type": "markdown",
   "id": "932c11b0-97db-4c94-a3a0-0cfccb27403a",
   "metadata": {},
   "source": [
    "# GoldSpy Investments\n",
    "GoldSpy Investments, An up and coming investment fund management took on a small client recently, who wanted to invest a small amount of capital with them. As a beginner to the financial markets he wanted to see if Gold or the S&P500 would be more of a sound investment for the future.\n",
    "\n",
    "GoldSpy Investments will not present to the client, historical data on both markets, and show which investment is more volatile and lastly what the future may hold for each investment, which the client would then choose to invest in long term.\n",
    "\n",
    "\n"
   ]
  },
  {
   "cell_type": "code",
   "execution_count": 7,
   "id": "bb41e6db-be1e-42c5-9310-b4cde3760dc0",
   "metadata": {},
   "outputs": [],
   "source": [
    "#import required libraries and dependencies.\n",
    "\n",
    "import pandas as pd\n",
    "from pathlib import Path\n",
    "import os\n",
    "from dotenv import load_dotenv\n",
    "import requests\n",
    "import json\n",
    "import seaborn as sns\n",
    "import numpy as np\n",
    "import alpaca_trade_api as tradeapi\n",
    "import datetime as dt\n",
    "import pytz\n",
    "import hvplot.pandas\n",
    "%matplotlib inline\n",
    "import matplotlib.pyplot as plt"
   ]
  },
  {
   "cell_type": "code",
   "execution_count": 8,
   "id": "ace81618-6fe2-4bd4-aac5-849c81d9593c",
   "metadata": {},
   "outputs": [
    {
     "name": "stderr",
     "output_type": "stream",
     "text": [
      "Python-dotenv could not parse statement starting at line 1\n"
     ]
    },
    {
     "data": {
      "text/plain": [
       "True"
      ]
     },
     "execution_count": 8,
     "metadata": {},
     "output_type": "execute_result"
    }
   ],
   "source": [
    "# Load .env enviroment variables into the notebook.\n",
    "load_dotenv()"
   ]
  },
  {
   "cell_type": "markdown",
   "id": "5cbe6f0c-abf1-4832-80a5-9821198c2bc0",
   "metadata": {},
   "source": [
    "### Collect and enter LMBA Gold Stock Data Use pandas\n",
    "create `read_csv` function and `Path` module to import data from `LMBAGOLD.csv` file and create a dataframe and post 10 most recent prices."
   ]
  },
  {
   "cell_type": "code",
   "execution_count": 11,
   "id": "669a8c69-c93c-4f58-8682-2c84f86acfd7",
   "metadata": {},
   "outputs": [
    {
     "data": {
      "text/html": [
       "<div>\n",
       "<style scoped>\n",
       "    .dataframe tbody tr th:only-of-type {\n",
       "        vertical-align: middle;\n",
       "    }\n",
       "\n",
       "    .dataframe tbody tr th {\n",
       "        vertical-align: top;\n",
       "    }\n",
       "\n",
       "    .dataframe thead th {\n",
       "        text-align: right;\n",
       "    }\n",
       "</style>\n",
       "<table border=\"1\" class=\"dataframe\">\n",
       "  <thead>\n",
       "    <tr style=\"text-align: right;\">\n",
       "      <th></th>\n",
       "      <th>Date</th>\n",
       "      <th>Close</th>\n",
       "    </tr>\n",
       "  </thead>\n",
       "  <tbody>\n",
       "    <tr>\n",
       "      <th>13799</th>\n",
       "      <td>1968-01-15</td>\n",
       "      <td>NaN</td>\n",
       "    </tr>\n",
       "    <tr>\n",
       "      <th>13800</th>\n",
       "      <td>1968-01-12</td>\n",
       "      <td>NaN</td>\n",
       "    </tr>\n",
       "    <tr>\n",
       "      <th>13801</th>\n",
       "      <td>1968-01-11</td>\n",
       "      <td>NaN</td>\n",
       "    </tr>\n",
       "    <tr>\n",
       "      <th>13802</th>\n",
       "      <td>1968-01-10</td>\n",
       "      <td>NaN</td>\n",
       "    </tr>\n",
       "    <tr>\n",
       "      <th>13803</th>\n",
       "      <td>1968-01-09</td>\n",
       "      <td>NaN</td>\n",
       "    </tr>\n",
       "    <tr>\n",
       "      <th>13804</th>\n",
       "      <td>1968-01-08</td>\n",
       "      <td>NaN</td>\n",
       "    </tr>\n",
       "    <tr>\n",
       "      <th>13805</th>\n",
       "      <td>1968-01-05</td>\n",
       "      <td>NaN</td>\n",
       "    </tr>\n",
       "    <tr>\n",
       "      <th>13806</th>\n",
       "      <td>1968-01-04</td>\n",
       "      <td>NaN</td>\n",
       "    </tr>\n",
       "    <tr>\n",
       "      <th>13807</th>\n",
       "      <td>1968-01-03</td>\n",
       "      <td>NaN</td>\n",
       "    </tr>\n",
       "    <tr>\n",
       "      <th>13808</th>\n",
       "      <td>1968-01-02</td>\n",
       "      <td>NaN</td>\n",
       "    </tr>\n",
       "  </tbody>\n",
       "</table>\n",
       "</div>"
      ],
      "text/plain": [
       "             Date  Close\n",
       "13799  1968-01-15    NaN\n",
       "13800  1968-01-12    NaN\n",
       "13801  1968-01-11    NaN\n",
       "13802  1968-01-10    NaN\n",
       "13803  1968-01-09    NaN\n",
       "13804  1968-01-08    NaN\n",
       "13805  1968-01-05    NaN\n",
       "13806  1968-01-04    NaN\n",
       "13807  1968-01-03    NaN\n",
       "13808  1968-01-02    NaN"
      ]
     },
     "execution_count": 11,
     "metadata": {},
     "output_type": "execute_result"
    }
   ],
   "source": [
    "## Using the read_csv function and Path module, create a DataFrame \n",
    "# import information from \"LBMAGOLD.csv\"\n",
    "lmba_gold_csv = Path(\"./Resources/LBMAGOLD.csv\")\n",
    "\n",
    "lmba_gold_df = pd.read_csv(\n",
    "    lmba_gold_csv,\n",
    "    # index_col='Date',\n",
    "    # infer_datetime_format=True,\n",
    "    # parse_dates=True,\n",
    ")\n",
    "\n",
    "columns = ['Date',\n",
    "   'Open',\n",
    "   'Close',\n",
    "   'GBP (Open)',\n",
    "   'GBP (Close)',\n",
    "   'EURO (Open)',\n",
    "   'EURO (Close)']\n",
    "lmba_gold_df.columns = columns\n",
    "\n",
    "del lmba_gold_df['Open']\n",
    "del lmba_gold_df['GBP (Open)']\n",
    "del lmba_gold_df['GBP (Close)']\n",
    "del lmba_gold_df['EURO (Open)']\n",
    "del lmba_gold_df['EURO (Close)']\n",
    "\n",
    "lmba_gold_df\n",
    "#review the first 10 and last 10 rows.\n",
    "lmba_gold_df.head(10)\n",
    "lmba_gold_df.tail(10)\n",
    "\n"
   ]
  },
  {
   "cell_type": "code",
   "execution_count": 12,
   "id": "0e3d7404-390c-4fe8-a6ce-6a45d7fa64d7",
   "metadata": {},
   "outputs": [
    {
     "name": "stdout",
     "output_type": "stream",
     "text": [
      "(1698, 1)\n"
     ]
    },
    {
     "data": {
      "text/html": [
       "<div>\n",
       "<style scoped>\n",
       "    .dataframe tbody tr th:only-of-type {\n",
       "        vertical-align: middle;\n",
       "    }\n",
       "\n",
       "    .dataframe tbody tr th {\n",
       "        vertical-align: top;\n",
       "    }\n",
       "\n",
       "    .dataframe thead th {\n",
       "        text-align: right;\n",
       "    }\n",
       "</style>\n",
       "<table border=\"1\" class=\"dataframe\">\n",
       "  <thead>\n",
       "    <tr style=\"text-align: right;\">\n",
       "      <th></th>\n",
       "      <th>Close</th>\n",
       "    </tr>\n",
       "    <tr>\n",
       "      <th>Date</th>\n",
       "      <th></th>\n",
       "    </tr>\n",
       "  </thead>\n",
       "  <tbody>\n",
       "    <tr>\n",
       "      <th>2015-12-01</th>\n",
       "      <td>1065.40</td>\n",
       "    </tr>\n",
       "    <tr>\n",
       "      <th>2015-12-02</th>\n",
       "      <td>1055.40</td>\n",
       "    </tr>\n",
       "    <tr>\n",
       "      <th>2015-12-03</th>\n",
       "      <td>1055.45</td>\n",
       "    </tr>\n",
       "    <tr>\n",
       "      <th>2015-12-04</th>\n",
       "      <td>1079.25</td>\n",
       "    </tr>\n",
       "    <tr>\n",
       "      <th>2015-12-07</th>\n",
       "      <td>1075.80</td>\n",
       "    </tr>\n",
       "    <tr>\n",
       "      <th>2015-12-08</th>\n",
       "      <td>1072.10</td>\n",
       "    </tr>\n",
       "    <tr>\n",
       "      <th>2015-12-09</th>\n",
       "      <td>1081.00</td>\n",
       "    </tr>\n",
       "    <tr>\n",
       "      <th>2015-12-10</th>\n",
       "      <td>1071.00</td>\n",
       "    </tr>\n",
       "    <tr>\n",
       "      <th>2015-12-11</th>\n",
       "      <td>1072.50</td>\n",
       "    </tr>\n",
       "    <tr>\n",
       "      <th>2015-12-14</th>\n",
       "      <td>1068.25</td>\n",
       "    </tr>\n",
       "  </tbody>\n",
       "</table>\n",
       "</div>"
      ],
      "text/plain": [
       "              Close\n",
       "Date               \n",
       "2015-12-01  1065.40\n",
       "2015-12-02  1055.40\n",
       "2015-12-03  1055.45\n",
       "2015-12-04  1079.25\n",
       "2015-12-07  1075.80\n",
       "2015-12-08  1072.10\n",
       "2015-12-09  1081.00\n",
       "2015-12-10  1071.00\n",
       "2015-12-11  1072.50\n",
       "2015-12-14  1068.25"
      ]
     },
     "metadata": {},
     "output_type": "display_data"
    },
    {
     "data": {
      "text/html": [
       "<div>\n",
       "<style scoped>\n",
       "    .dataframe tbody tr th:only-of-type {\n",
       "        vertical-align: middle;\n",
       "    }\n",
       "\n",
       "    .dataframe tbody tr th {\n",
       "        vertical-align: top;\n",
       "    }\n",
       "\n",
       "    .dataframe thead th {\n",
       "        text-align: right;\n",
       "    }\n",
       "</style>\n",
       "<table border=\"1\" class=\"dataframe\">\n",
       "  <thead>\n",
       "    <tr style=\"text-align: right;\">\n",
       "      <th></th>\n",
       "      <th>Close</th>\n",
       "    </tr>\n",
       "    <tr>\n",
       "      <th>Date</th>\n",
       "      <th></th>\n",
       "    </tr>\n",
       "  </thead>\n",
       "  <tbody>\n",
       "    <tr>\n",
       "      <th>2022-08-08</th>\n",
       "      <td>1784.05</td>\n",
       "    </tr>\n",
       "    <tr>\n",
       "      <th>2022-08-09</th>\n",
       "      <td>1795.25</td>\n",
       "    </tr>\n",
       "    <tr>\n",
       "      <th>2022-08-10</th>\n",
       "      <td>1795.05</td>\n",
       "    </tr>\n",
       "    <tr>\n",
       "      <th>2022-08-11</th>\n",
       "      <td>1796.70</td>\n",
       "    </tr>\n",
       "    <tr>\n",
       "      <th>2022-08-12</th>\n",
       "      <td>1792.10</td>\n",
       "    </tr>\n",
       "    <tr>\n",
       "      <th>2022-08-15</th>\n",
       "      <td>1776.60</td>\n",
       "    </tr>\n",
       "    <tr>\n",
       "      <th>2022-08-16</th>\n",
       "      <td>1774.85</td>\n",
       "    </tr>\n",
       "    <tr>\n",
       "      <th>2022-08-17</th>\n",
       "      <td>1767.20</td>\n",
       "    </tr>\n",
       "    <tr>\n",
       "      <th>2022-08-18</th>\n",
       "      <td>1765.55</td>\n",
       "    </tr>\n",
       "    <tr>\n",
       "      <th>2022-08-19</th>\n",
       "      <td>1750.75</td>\n",
       "    </tr>\n",
       "  </tbody>\n",
       "</table>\n",
       "</div>"
      ],
      "text/plain": [
       "              Close\n",
       "Date               \n",
       "2022-08-08  1784.05\n",
       "2022-08-09  1795.25\n",
       "2022-08-10  1795.05\n",
       "2022-08-11  1796.70\n",
       "2022-08-12  1792.10\n",
       "2022-08-15  1776.60\n",
       "2022-08-16  1774.85\n",
       "2022-08-17  1767.20\n",
       "2022-08-18  1765.55\n",
       "2022-08-19  1750.75"
      ]
     },
     "metadata": {},
     "output_type": "display_data"
    }
   ],
   "source": [
    "lmba_gold_df.sort_values(by='Date', ascending=True, inplace=True)\n",
    "\n",
    "lmba_gold_split_2018 = lmba_gold_df.loc[\n",
    "    (lmba_gold_df['Date'] >= \"2015-12-01\")\n",
    "    & (lmba_gold_df['Date'] <= \"2022-08-22\")\n",
    "]\n",
    "# lmba_gold_df.sort_values(by='Date', ascending=True, inplace=True)\n",
    "# lmba_gold_df.set_index('Date', inplace=True)\n",
    "lmba_gold_split_2018.set_index('Date', inplace=True)\n",
    "\n",
    "print(lmba_gold_split_2018.shape)\n",
    "\n",
    "display(lmba_gold_split_2018.head(10))\n",
    "display(lmba_gold_split_2018.tail(10))\n"
   ]
  },
  {
   "cell_type": "code",
   "execution_count": 17,
   "id": "62803a9d-792c-40ba-b37f-901bf4ff4075",
   "metadata": {},
   "outputs": [
    {
     "data": {
      "image/png": "[encoded data removed]",
      "text/plain": [
       "<Figure size 1440x720 with 1 Axes>"
      ]
     },
     "metadata": {},
     "output_type": "display_data"
    }
   ],
   "source": [
    "sns.set(rc={'figure.figsize':(20,10)})\n",
    "plt.xlabel(\"Gold Prices from 2015 (December) - 2022 (August)\", size = 16)\n",
    "plt.ylabel(\"Closing Price $\", size = 16)\n",
    "plt.title(\"LMBA Gold Price History\", size = 24)\n",
    "lmba_sense = sns.lineplot(x = \"Date\", y =\"Close\", data = lmba_gold_split_2018, ci=False, markers=True\n",
    "\n",
    ")\n"
   ]
  },
  {
   "cell_type": "markdown",
   "id": "f67bb465-16d4-49f4-b033-8b39111dd055",
   "metadata": {},
   "source": [
    "# Alpaca Spy Data\n"
   ]
  },
  {
   "cell_type": "code",
   "execution_count": null,
   "id": "051e8e04-1091-4594-890d-0999196d7b41",
   "metadata": {},
   "outputs": [],
   "source": [
    "#import important libraries\n",
    "import pandas as pd\n",
    "import os\n",
    "from dotenv import load_dotenv\n",
    "import alpaca_trade_api as tradeapi\n",
    "import requests\n",
    "import hvplot.pandas\n",
    "import json\n",
    "\n",
    "#load dotenv for API \n",
    "\n",
    "load_dotenv()\n"
   ]
  },
  {
   "cell_type": "markdown",
   "id": "bee672a7-34b0-4912-a45a-1d326d842ed3",
   "metadata": {},
   "source": [
    "# Create a .env folder with Alpaca API key and Alpaca secret key.\n",
    "\n",
    "Set variables for Alpaca API and Alpaca secret keys.\n",
    "\n",
    "\n",
    "call API keys using os.getenv \n",
    "\n",
    "\n",
    "Create tradeapi.REST object with the Alpaca key and secret keys along with version number."
   ]
  },
  {
   "cell_type": "code",
   "execution_count": null,
   "id": "1d235e84-ae94-43c5-9f6d-b43ed6eae3cd",
   "metadata": {},
   "outputs": [],
   "source": [
    "# Set the variables for the Alpaca API and secret keys\n",
    "alpaca_api_key = os.getenv(\"alpaca_api_key\")\n",
    "alpaca_secret_key = os.getenv(\"alpaca_secret_key\")\n",
    "alpaca_base_url = \"https://paper-api.alpaca.markets\"\n",
    "display(type(alpaca_api_key))\n",
    "display(type(alpaca_secret_key))\n",
    "\n",
    "#create alpaca api object\n",
    "alpaca = tradeapi.REST(\n",
    "    alpaca_api_key,\n",
    "    alpaca_secret_key,\n",
    "    api_version=\"v2\")\n"
   ]
  },
  {
   "cell_type": "markdown",
   "id": "1f62c631-c701-4f7a-ac6b-d0cca5328415",
   "metadata": {},
   "source": [
    "# Pull timestamp from 2015-12-01 to end 2022-08-22\n"
   ]
  },
  {
   "cell_type": "code",
   "execution_count": null,
   "id": "410e1947-1ca9-4307-817e-ce9d0206948b",
   "metadata": {},
   "outputs": [],
   "source": [
    "#format current date as iso format for ticker SPY\n",
    "#7 year time period\n",
    "\n",
    "start_date = pd.Timestamp(\"2015-12-01\",tz=\"America/New_York\").isoformat()\n",
    "end_date = pd.Timestamp(\"2022-08-22\",tz=\"America/New_York\").isoformat()\n",
    "\n",
    "#set spy ticker\n",
    "\n",
    "tickers = [\"SPY\"]\n",
    "\n",
    "#set timeframe to ('1Day') for alpaca api \n",
    "timeframe = '1D'"
   ]
  },
  {
   "cell_type": "code",
   "execution_count": null,
   "id": "e4af524d-1ea2-47a5-98c0-16aaedf933e4",
   "metadata": {},
   "outputs": [],
   "source": [
    "#closing price for SPY\n",
    "\n",
    "alpaca_spy_df = alpaca.get_bars(\n",
    "    tickers,\n",
    "    timeframe,\n",
    "    start=start_date,\n",
    "    end=end_date\n",
    ").df\n",
    "\n",
    "alpaca_spy_df"
   ]
  },
  {
   "cell_type": "markdown",
   "id": "b1877f11-62c6-40a7-98e5-a3addce60838",
   "metadata": {},
   "source": [
    "# Drop the SPY symbol to clean dataframe by dropping the symbol "
   ]
  },
  {
   "cell_type": "code",
   "execution_count": null,
   "id": "2e700fb0-74bb-4a46-bf5c-ad9abb0dc467",
   "metadata": {},
   "outputs": [],
   "source": [
    "#close price for SPY \n",
    "\n",
    "SPY = alpaca_spy_df[alpaca_spy_df['symbol']=='SPY'].drop('symbol',axis=1)\n",
    "\n",
    "alpaca_spy_df = pd.concat([SPY],axis=1,keys=['SPY'])\n",
    "display(alpaca_spy_df.head())\n",
    "display(alpaca_spy_df.tail())\n"
   ]
  },
  {
   "cell_type": "markdown",
   "id": "f594c989-3038-496b-825c-5eacbef2acd8",
   "metadata": {},
   "source": [
    "# Create SPY closing dataframe by slicing close column in the Spy dataframe"
   ]
  },
  {
   "cell_type": "code",
   "execution_count": null,
   "id": "d2608bfc-d354-40c2-93b8-a224f1778825",
   "metadata": {},
   "outputs": [],
   "source": [
    "#get closing price for SPY from Alpaca DF\n",
    "\n",
    "\n",
    "spy_close_df =(alpaca_spy_df['SPY']['close'])\n",
    "spy_close_df\n"
   ]
  },
  {
   "cell_type": "markdown",
   "id": "58cfe1e2-60d1-4784-b959-21e23ff47499",
   "metadata": {},
   "source": [
    "# Plot the close price for SPY historical data 2015-2022"
   ]
  },
  {
   "cell_type": "code",
   "execution_count": null,
   "id": "075d9892-865a-4676-bb4a-51589af2754f",
   "metadata": {},
   "outputs": [],
   "source": [
    "#SPY Historical Data Last 7 Years\n",
    "spy_close_df.hvplot(\n",
    "    y='close',\n",
    "    title='SPY Historical Data 2015-2022',\n",
    "    xlabel='Year 2015-2022',\n",
    "    ylabel='SPY Volume'\n",
    ").opts(\n",
    "    yformatter='%.0f',\n",
    "    color='green'\n",
    ")"
   ]
  },
  {
   "cell_type": "code",
   "execution_count": null,
   "id": "05c87285-04f2-4872-9b9f-a184c1682ddc",
   "metadata": {},
   "outputs": [],
   "source": [
    "#\\"
   ]
  }
 ],
 "metadata": {
  "kernelspec": {
   "display_name": "Python 3 (ipykernel)",
   "language": "python",
   "name": "python3"
  },
  "language_info": {
   "codemirror_mode": {
    "name": "ipython",
    "version": 3
   },
   "file_extension": ".py",
   "mimetype": "text/x-python",
   "name": "python",
   "nbconvert_exporter": "python",
   "pygments_lexer": "ipython3",
   "version": "3.9.12"
  }
 },
 "nbformat": 4,
 "nbformat_minor": 5
}
